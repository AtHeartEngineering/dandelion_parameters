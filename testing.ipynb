{
 "cells": [
  {
   "cell_type": "code",
   "execution_count": 34,
   "id": "7b49203e-fdcf-4c55-a7f8-18de3d2ac8c3",
   "metadata": {},
   "outputs": [
    {
     "name": "stdout",
     "output_type": "stream",
     "text": [
      "StemMin: 3, StemMax: 7, StemPeers: 2, ReductionMin: 1.25, ReductionMax: 2\n",
      "NUMBER RUNS: 10000\n",
      "HOPS:\n",
      "  - Mean: 3.0289\n",
      "  - Median: 3.0\n",
      "  - StdD: 0.872390273902684\n",
      "  - Min: 2\n",
      "  - Max: 6\n"
     ]
    },
    {
     "data": {
      "image/png": "[encoded data removed]",
      "text/plain": [
       "<Figure size 432x288 with 1 Axes>"
      ]
     },
     "metadata": {
      "needs_background": "light"
     },
     "output_type": "display_data"
    }
   ],
   "source": [
    "from dandelion_utils.generateStemLength import generateStemLength\n",
    "from dandelion_utils.reviseStemLength import reviseStemLength\n",
    "\n",
    "from dataclasses import dataclass\n",
    "import numpy as np\n",
    "import pandas as pd\n",
    "from scipy.stats import norm\n",
    "import matplotlib.pyplot as plt\n",
    "\n",
    "@dataclass\n",
    "class Params:\n",
    "    stemMin: int\n",
    "    stemMax: int\n",
    "    numberOfStemPeers: int\n",
    "    StemReductionMin: float\n",
    "    StemReductionMax: float\n",
    "\n",
    "    def __repr__(self):\n",
    "        return self.long_description()\n",
    "        \n",
    "    def long_description(self):\n",
    "        return f'StemMin: {self.stemMin}, StemMax: {self.stemMax}, StemPeers: {self.numberOfStemPeers}, ReductionMin: {self.StemReductionMin}, ReductionMax: {self.StemReductionMax}'\n",
    "    \n",
    "    def short_description(self):\n",
    "        return f'{self.stemMin}-{self.stemMax}, {self.numberOfStemPeers}p, {self.StemReductionMin}-{self.StemReductionMax}r'\n",
    "\n",
    "class Sweep:\n",
    "    def __init__(self, params: Params, num_runs: int, hops: []):\n",
    "        self.params = params,\n",
    "        self.num_runs = num_runs\n",
    "        self.hops = hops\n",
    "        \n",
    "    def describe_sweep(self):\n",
    "        print(f\"NUMBER RUNS: {self.num_runs}\")\n",
    "        print(f\"HOPS:\")\n",
    "        print(f\"  - Mean: {np.mean(self.hops)}\")\n",
    "        print(f\"  - Median: {np.median(self.hops)}\")\n",
    "        print(f\"  - StdD: {np.std(self.hops)}\")\n",
    "        print(f\"  - Min: {np.amin(self.hops)}\")\n",
    "        print(f\"  - Max: {np.amax(self.hops)}\")\n",
    "        \n",
    "    def plot_sweep(self):\n",
    "        _title = self.params\n",
    "        plt.hist(self.hops, bins=[1,2,3,4,5,6,7,8])\n",
    "        plt.gca().set(title=_title, ylabel='count');\n",
    "\n",
    "def printConstants(params: Params):\n",
    "    print(\"USING CONSTANTS:\")\n",
    "    print(f\"  - StemMin: {params.stemMin}\")\n",
    "    print(f\"  - StemMax: {params.stemMax}\")\n",
    "    print(f\"  - numberOfStemPeers: {params.numberOfStemPeers}\")\n",
    "    print(f\"  - StemReductionMin: {params.StemReductionMin}\")\n",
    "    print(f\"  - StemReductionMax: {params.StemReductionMax}\")\n",
    "\n",
    "\n",
    "def random_stem_hops(params: Params):\n",
    "    # Generate a random initial stem length\n",
    "    stemLength = generateStemLength(params.stemMin, params.stemMax)\n",
    "    hops = 0\n",
    "    while stemLength > 0:\n",
    "        hops += 1\n",
    "        temp_stems = []\n",
    "        # This simulates the message being passed to multiple \"stem peers\", \n",
    "        # of the multiple paths that the message takes, we are always going \n",
    "        # to chose the shortest path.\n",
    "        for x in range(params.numberOfStemPeers):\n",
    "            temp_stems.append(reviseStemLength(stemLength, params.StemReductionMin, params.StemReductionMax))\n",
    "        stemLength = min(temp_stems)\n",
    "    return hops\n",
    "\n",
    "def single_sweep(params: Params, num_runs=10000):\n",
    "    hops = []\n",
    "    while len(hops) < num_runs:\n",
    "        hops.append(random_stem_hops(params))\n",
    "    return Sweep(params, num_runs, hops)\n",
    "    \n",
    "def generate_data():\n",
    "    params = Params(stemMin = 3, stemMax = 7, numberOfStemPeers = 2, StemReductionMin = 1.25, StemReductionMax = 2)\n",
    "    x = single_sweep(params)\n",
    "    print(params)\n",
    "    x.describe_sweep()\n",
    "    x.plot_sweep()\n",
    "\n",
    "\n",
    "if __name__ == \"__main__\":\n",
    "    \n",
    "    generate_data()\n"
   ]
  }
 ],
 "metadata": {
  "kernelspec": {
   "display_name": "Python 3 (ipykernel)",
   "language": "python",
   "name": "python3"
  },
  "language_info": {
   "codemirror_mode": {
    "name": "ipython",
    "version": 3
   },
   "file_extension": ".py",
   "mimetype": "text/x-python",
   "name": "python",
   "nbconvert_exporter": "python",
   "pygments_lexer": "ipython3",
   "version": "3.10.5"
  }
 },
 "nbformat": 4,
 "nbformat_minor": 5
}
